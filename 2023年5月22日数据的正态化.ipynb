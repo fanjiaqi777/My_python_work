{
 "cells": [
  {
   "cell_type": "code",
   "execution_count": 1,
   "id": "411e4b4b",
   "metadata": {},
   "outputs": [
    {
     "name": "stdout",
     "output_type": "stream",
     "text": [
      "Statistics=0.061, p=0.826\n",
      "Sample looks Gaussian (fail to reject H0)\n"
     ]
    }
   ],
   "source": [
    "import numpy as np \n",
    "from scipy.stats import kstest\n",
    "\n",
    "# 生成一组样本数据\n",
    "data = np.random.randn(100)\n",
    "\n",
    "# KS检验\n",
    "stat, p = kstest(data, 'norm')  \n",
    "\n",
    "# 检验结果\n",
    "print('Statistics=%.3f, p=%.3f' % (stat, p))\n",
    "# p>0.05,接受原假设,认为样本符合正态分布\n",
    "# p<0.05,拒绝原假设,认为样本不符合正态分布\n",
    "\n",
    "if p > 0.05: \n",
    "    print('Sample looks Gaussian (fail to reject H0)') \n",
    "else:\n",
    "    print('Sample does not look Gaussian (reject H0)')"
   ]
  },
  {
   "cell_type": "code",
   "execution_count": 11,
   "id": "e322680b",
   "metadata": {},
   "outputs": [
    {
     "data": {
      "text/html": [
       "<div>\n",
       "<style scoped>\n",
       "    .dataframe tbody tr th:only-of-type {\n",
       "        vertical-align: middle;\n",
       "    }\n",
       "\n",
       "    .dataframe tbody tr th {\n",
       "        vertical-align: top;\n",
       "    }\n",
       "\n",
       "    .dataframe thead th {\n",
       "        text-align: right;\n",
       "    }\n",
       "</style>\n",
       "<table border=\"1\" class=\"dataframe\">\n",
       "  <thead>\n",
       "    <tr style=\"text-align: right;\">\n",
       "      <th></th>\n",
       "      <th>MD2021</th>\n",
       "      <th>MD2022</th>\n",
       "    </tr>\n",
       "  </thead>\n",
       "  <tbody>\n",
       "    <tr>\n",
       "      <th>0</th>\n",
       "      <td>250.0</td>\n",
       "      <td>237.0</td>\n",
       "    </tr>\n",
       "    <tr>\n",
       "      <th>1</th>\n",
       "      <td>229.0</td>\n",
       "      <td>237.0</td>\n",
       "    </tr>\n",
       "    <tr>\n",
       "      <th>2</th>\n",
       "      <td>229.0</td>\n",
       "      <td>237.0</td>\n",
       "    </tr>\n",
       "    <tr>\n",
       "      <th>3</th>\n",
       "      <td>229.0</td>\n",
       "      <td>237.0</td>\n",
       "    </tr>\n",
       "    <tr>\n",
       "      <th>4</th>\n",
       "      <td>232.0</td>\n",
       "      <td>237.0</td>\n",
       "    </tr>\n",
       "    <tr>\n",
       "      <th>...</th>\n",
       "      <td>...</td>\n",
       "      <td>...</td>\n",
       "    </tr>\n",
       "    <tr>\n",
       "      <th>16292</th>\n",
       "      <td>NaN</td>\n",
       "      <td>NaN</td>\n",
       "    </tr>\n",
       "    <tr>\n",
       "      <th>16293</th>\n",
       "      <td>NaN</td>\n",
       "      <td>NaN</td>\n",
       "    </tr>\n",
       "    <tr>\n",
       "      <th>16294</th>\n",
       "      <td>NaN</td>\n",
       "      <td>NaN</td>\n",
       "    </tr>\n",
       "    <tr>\n",
       "      <th>16295</th>\n",
       "      <td>NaN</td>\n",
       "      <td>NaN</td>\n",
       "    </tr>\n",
       "    <tr>\n",
       "      <th>16296</th>\n",
       "      <td>NaN</td>\n",
       "      <td>NaN</td>\n",
       "    </tr>\n",
       "  </tbody>\n",
       "</table>\n",
       "<p>16297 rows × 2 columns</p>\n",
       "</div>"
      ],
      "text/plain": [
       "       MD2021  MD2022\n",
       "0       250.0   237.0\n",
       "1       229.0   237.0\n",
       "2       229.0   237.0\n",
       "3       229.0   237.0\n",
       "4       232.0   237.0\n",
       "...       ...     ...\n",
       "16292     NaN     NaN\n",
       "16293     NaN     NaN\n",
       "16294     NaN     NaN\n",
       "16295     NaN     NaN\n",
       "16296     NaN     NaN\n",
       "\n",
       "[16297 rows x 2 columns]"
      ]
     },
     "execution_count": 11,
     "metadata": {},
     "output_type": "execute_result"
    }
   ],
   "source": [
    "import pandas as pd\n",
    "file_name= 'E:/Python20230505/MD-histogram.csv'\n",
    "data=pd.read_csv(file_name)\n",
    "data\n"
   ]
  },
  {
   "cell_type": "code",
   "execution_count": 14,
   "id": "7929e450",
   "metadata": {},
   "outputs": [
    {
     "data": {
      "text/plain": [
       "0      250.0\n",
       "1      229.0\n",
       "2      229.0\n",
       "3      229.0\n",
       "4      232.0\n",
       "       ...  \n",
       "132    250.0\n",
       "133    250.0\n",
       "134    250.0\n",
       "135    253.0\n",
       "136    253.0\n",
       "Name: MD2021, Length: 137, dtype: float64"
      ]
     },
     "execution_count": 14,
     "metadata": {},
     "output_type": "execute_result"
    }
   ],
   "source": [
    "data_MD_2021=data['MD2021']\n",
    "MD_2021=data_MD_2021.dropna(how='any')\n",
    "MD_2021\n"
   ]
  },
  {
   "cell_type": "code",
   "execution_count": 16,
   "id": "da9464a3",
   "metadata": {},
   "outputs": [
    {
     "data": {
      "text/plain": [
       "array([250., 229., 229., 229., 232., 233., 235., 235., 238., 238., 238.,\n",
       "       238., 238., 238., 238., 238., 238., 238., 238., 238., 238., 238.,\n",
       "       238., 238., 238., 238., 238., 238., 239., 239., 239., 239., 239.,\n",
       "       239., 239., 242., 242., 242., 242., 242., 243., 243., 243., 243.,\n",
       "       243., 243., 243., 243., 243., 243., 243., 243., 243., 243., 243.,\n",
       "       243., 243., 243., 243., 243., 243., 243., 243., 243., 243., 243.,\n",
       "       243., 243., 243., 243., 243., 243., 243., 243., 243., 244., 244.,\n",
       "       244., 244., 244., 244., 244., 244., 244., 244., 244., 244., 244.,\n",
       "       245., 245., 245., 245., 245., 245., 245., 245., 245., 246., 246.,\n",
       "       246., 246., 246., 246., 246., 246., 246., 246., 246., 246., 246.,\n",
       "       248., 248., 248., 248., 248., 248., 248., 248., 248., 248., 248.,\n",
       "       248., 248., 248., 248., 248., 248., 248., 250., 250., 250., 250.,\n",
       "       250., 250., 250., 253., 253.])"
      ]
     },
     "execution_count": 16,
     "metadata": {},
     "output_type": "execute_result"
    }
   ],
   "source": [
    "col_arrayMD_2021=MD_2021.to_numpy()\n",
    "col_arrayMD_2021"
   ]
  },
  {
   "cell_type": "code",
   "execution_count": 17,
   "id": "0a8db3ec",
   "metadata": {},
   "outputs": [
    {
     "name": "stdout",
     "output_type": "stream",
     "text": [
      "Statistics=1.000, p=0.000\n",
      "Sample does not look Gaussian (reject H0)\n"
     ]
    }
   ],
   "source": [
    "stat, p = kstest(col_arrayMD_2021, 'norm')\n",
    "# 检验结果\n",
    "print('Statistics=%.3f, p=%.3f' % (stat, p))\n",
    "# p>0.05,接受原假设,认为样本符合正态分布\n",
    "# p<0.05,拒绝原假设,认为样本不符合正态分布\n",
    "\n",
    "if p > 0.05: \n",
    "    print('Sample looks Gaussian (fail to reject H0)') \n",
    "else:\n",
    "    print('Sample does not look Gaussian (reject H0)')"
   ]
  },
  {
   "cell_type": "code",
   "execution_count": null,
   "id": "3f83ff7c",
   "metadata": {},
   "outputs": [],
   "source": [
    "#以上数据不符合正态分布，不符合正态分布的数据在计算遗传力时需要注意几点:\n",
    "#遗传力通常假定性状符合正态分布或近似正态分布。如果偏离正态分布较大,遗传力的估计值会产生较大误差,需要谨慎解释。\n",
    "# 对于非正态分布的数据,可以对数据进行变换,如对数变换或平方变换,使变换后的数据更符合正态分布,然后再基于变换后的数据计算遗传力。\n",
    "# 但变换会使遗传力的值改变,需要考虑到变换带来的影响。\n",
    "# 可以选用对非正态分布的数据更为稳健的遗传力估计方法,如基于极限遗传力的非参量方法。这些方法不要求数据符合某种分布,估计值的准确性更高。\n",
    "# 如果数据的偏离正态分布主要源于少数极端值,可以考虑剔除极端值后重新判断数据分布和计算遗传力。但需要考虑删数据带来的影响。\n",
    "# 可以同时使用多个方法计算遗传力,如基于极限遗传力的方法与基于方差分析的方法,然后综合考虑不同方法得到的遗传力值的一致性来判断结果的可靠性。\n",
    "#综上,不符合正态分布的数据在遗传力分析中需要注意方法选择和结果解释。同时运用多种方法可以提高结果的可信度。\n",
    "#如果数据偏离正态分布较大,建议采用对非正态数据更为稳健的方法,并谨慎解释结果。必要时,可考虑对数据作变换或剔除极端值以获得更符合正态分布的数据。\n",
    "\n",
    "\n",
    "\n",
    "#这个dataframe的数据问题在于：从这个数据的前几行和后几行可以看出,这个Series存在以下问题:\n",
    "#1. 包含NaN值。后面几行全是NaN,缺失值较多。\n",
    "#2. 有重复值,如第2-3行的值都为229。\n",
    "#3. 只有250-232这几个离散的值,间隔较大,不太连续。\n",
    "#这些特征表明该Series的质量较低,不太适合直接用于分析。需要先对数据进行处理。\n",
    "#针对以上问题,可以进行以下处理:\n",
    "#1. NaN值处理:可以删除包含NaN的行(如果行数较少),或使用填补法(如向前/向后填充)或插值法(如线性插值)填补NaN值。\n",
    "#2. 重复值处理:可以删除重复行或对重复值进行均值/中位数聚合,保留一条记录。\n",
    "#3. 区间较大,间隔不连续:可以对数据重新采样,如提取更密集的样本;或者对现有的数据进行插值法进行重采样,增加采样密度。\n",
    "#4. 查看数据分布,如果偏离正态分布较大,可以进行变换(如对数变换)使其更符合正态分布。或者选择对非正态数据较为稳健的方法进行后续分析。\n",
    "#5. 进行outlier检测与处理。对异常值进行均值/中位数替代或剔除。\n"
   ]
  },
  {
   "cell_type": "code",
   "execution_count": null,
   "id": "45418165",
   "metadata": {},
   "outputs": [],
   "source": []
  },
  {
   "cell_type": "code",
   "execution_count": null,
   "id": "0c959075",
   "metadata": {},
   "outputs": [],
   "source": [
    "#原数据的检验如下："
   ]
  },
  {
   "cell_type": "code",
   "execution_count": 23,
   "id": "f5065a0a",
   "metadata": {},
   "outputs": [
    {
     "name": "stdout",
     "output_type": "stream",
     "text": [
      "偏态:-0.6274785681338139\n",
      "峰度:0.5178813057463714\n"
     ]
    },
    {
     "data": {
      "image/png": "[encoded data removed]",
      "text/plain": [
       "<Figure size 432x288 with 2 Axes>"
      ]
     },
     "metadata": {
      "needs_background": "light"
     },
     "output_type": "display_data"
    }
   ],
   "source": [
    "import numpy as np \n",
    "import scipy.stats as stats\n",
    "import matplotlib.pyplot as plt\n",
    "\n",
    "arr = np.array([250., 229., 229., 229., 232., 233., 235., 235., 238., 238., 238.,  \n",
    "       238., 238., 238., 238., 238., 238., 238., 238., 238., 238., 238.,\n",
    "       238., 238., 238., 238., 238., 238., 239., 239., 239., 239., 239.,\n",
    "       239., 239., 242., 242., 242., 242., 242., 243., 243., 243., 243.,\n",
    "       243., 243., 243., 243., 243., 243., 243., 243., 243., 243., 243.,\n",
    "       243., 243., 243., 243., 243., 243., 243., 243., 243., 243., 243.,\n",
    "       243., 243., 243., 243., 243., 243., 243., 243., 243., 244., 244.,\n",
    "       244., 244., 244., 244., 244., 244., 244., 244., 244., 244., 244.,     \n",
    "       245., 245., 245., 245., 245., 245., 245., 245., 245., 246., 246.,\n",
    "       246., 246., 246., 246., 246., 246., 246., 246., 246., 246., 246.,\n",
    "       248., 248., 248., 248., 248., 248., 248., 248., 248., 248., 248.,\n",
    "       248., 248., 248., 248., 248., 248., 248., 250., 250., 250., 250., \n",
    "       250., 250., 250., 253., 253.])\n",
    "\n",
    "# 去除极值\n",
    "arr = arr[3:-3]  \n",
    "\n",
    "# 正态参数估计\n",
    "mu = np.mean(arr)  \n",
    "sigma = np.std(arr)\n",
    "\n",
    "# 标准化\n",
    "z = (arr - mu)/sigma  \n",
    "\n",
    "# 检验正态性\n",
    "print(f'偏态:{stats.skew(z)}')  \n",
    "print(f'峰度:{stats.kurtosis(z)}')\n",
    "\n",
    "# 作图检查\n",
    "fig, ax = plt.subplots(1,2)\n",
    "stats.probplot(z, dist=\"norm\", plot=ax[0])  \n",
    "ax[0].set_title('Normal Q-Q Plot')\n",
    "ax[1].hist(z)    \n",
    "ax[1].set_title('Histogram')\n",
    "plt.show()"
   ]
  },
  {
   "cell_type": "code",
   "execution_count": null,
   "id": "4e01e7d2",
   "metadata": {},
   "outputs": [],
   "source": [
    "#鉴于之前数据统计的问题：可以如下进行数据处理以满足正态分布"
   ]
  },
  {
   "cell_type": "code",
   "execution_count": 29,
   "id": "a240c786",
   "metadata": {},
   "outputs": [
    {
     "data": {
      "image/png": "[encoded data removed]",
      "text/plain": [
       "<Figure size 432x288 with 4 Axes>"
      ]
     },
     "metadata": {
      "needs_background": "light"
     },
     "output_type": "display_data"
    }
   ],
   "source": [
    "\n",
    "import numpy as np \n",
    "import scipy.stats as stats\n",
    "import matplotlib.pyplot as plt\n",
    "\n",
    "arr = np.array([250., 229., 229., 229., 232., 233., 235., 235., 238., 238., 238.,  \n",
    "       238., 238., 238., 238., 238., 238., 238., 238., 238., 238., 238.,\n",
    "       238., 238., 238., 238., 238., 238., 239., 239., 239., 239., 239.,\n",
    "       239., 239., 242., 242., 242., 242., 242., 243., 243., 243., 243.,\n",
    "       243., 243., 243., 243., 243., 243., 243., 243., 243., 243., 243.,\n",
    "       243., 243., 243., 243., 243., 243., 243., 243., 243., 243., 243.,\n",
    "       243., 243., 243., 243., 243., 243., 243., 243., 243., 244., 244.,\n",
    "       244., 244., 244., 244., 244., 244., 244., 244., 244., 244., 244.,     \n",
    "       245., 245., 245., 245., 245., 245., 245., 245., 245., 246., 246.,\n",
    "       246., 246., 246., 246., 246., 246., 246., 246., 246., 246., 246.,\n",
    "       248., 248., 248., 248., 248., 248., 248., 248., 248., 248., 248.,\n",
    "       248., 248., 248., 248., 248., 248., 248., 250., 250., 250., 250., \n",
    "       250., 250., 250., 253., 253.])\n",
    "\n",
    "# 去除极值 \n",
    "arr = arr[3:-3]\n",
    "\n",
    "# Box-Cox变换 \n",
    "z, lmbda = stats.boxcox(arr)\n",
    "z0 = stats.boxcox(arr, lmbda=0)   # log变换\n",
    "z05 = stats.boxcox(arr, lmbda=0.5)\n",
    "\n",
    "# 选择最佳变换参数\n",
    "skew_z, kurt_z = stats.skew(z), stats.kurtosis(z)  \n",
    "skew_z0, kurt_z0 = stats.skew(z0), stats.kurtosis(z0)\n",
    "skew_z05, kurt_z05 = stats.skew(z05), stats.kurtosis(z05)\n",
    "if (np.abs(skew_z) < 2) & (kurt_z < 7): \n",
    "    lz = z \n",
    "elif (np.abs(skew_z0) < 2) & (kurt_z0 < 7):  \n",
    "    lz = z0 \n",
    "elif (np.abs(skew_z05) < 2) & (kurt_z05 < 7):  \n",
    "    lz = z05\n",
    "\n",
    "# 标准化\n",
    "z_new = (lz - lz.mean())/lz.std()  \n",
    "\n",
    "# 作图  \n",
    "fig, ax = plt.subplots(2,2)\n",
    "stats.probplot(arr, dist=\"norm\", plot=ax[0,0])    \n",
    "ax[0,0].set_title('data_before')\n",
    "stats.probplot(lz, dist=\"norm\", plot=ax[0,1])   \n",
    "ax[0,1].set_title('Box-Cox Transformation')\n",
    "ax[1,0].hist(arr)      \n",
    "ax[1,1].hist(z_new)  \n",
    "plt.show()"
   ]
  },
  {
   "cell_type": "code",
   "execution_count": 28,
   "id": "40804571",
   "metadata": {},
   "outputs": [
    {
     "name": "stdout",
     "output_type": "stream",
     "text": [
      "pValue: 0.8155912406128757\n"
     ]
    },
    {
     "data": {
      "image/png": "[encoded data removed]",
      "text/plain": [
       "<Figure size 432x288 with 1 Axes>"
      ]
     },
     "metadata": {
      "needs_background": "light"
     },
     "output_type": "display_data"
    },
    {
     "name": "stdout",
     "output_type": "stream",
     "text": [
      "pValue: 0.8155275097893884\n"
     ]
    },
    {
     "data": {
      "image/png": "[encoded data removed]",
      "text/plain": [
       "<Figure size 432x288 with 1 Axes>"
      ]
     },
     "metadata": {
      "needs_background": "light"
     },
     "output_type": "display_data"
    }
   ],
   "source": [
    "import numpy as np\n",
    "import seaborn as sns\n",
    "import matplotlib.pyplot as plt\n",
    "from scipy import stats\n",
    "\n",
    "data = np.array([250., 229., 229., 229., 232., 233., 235., 235., 238., 238., 238.,\n",
    "       238., 238., 238., 238., 238., 238., 238., 238., 238., 238., 238.,\n",
    "       238., 238., 238., 238., 238., 238., 239., 239., 239., 239., 239.,\n",
    "       239., 239., 242., 242., 242., 242., 242., 243., 243., 243., 243.,\n",
    "       243., 243., 243., 243., 243., 243., 243., 243., 243., 243., 243.,\n",
    "       243., 243., 243., 243., 243., 243., 243., 243., 243., 243., 243.,\n",
    "       243., 243., 243., 243., 243., 243., 243., 243., 244., 244., 244.,\n",
    "       244., 244., 244., 244., 244., 244., 244., 244., 244., 244., 245.,\n",
    "       245., 245., 245., 245., 245., 245., 245., 245., 246., 246., 246.,\n",
    "       246., 246., 246., 246., 246., 246., 246., 246., 246., 246., 248.,\n",
    "       248., 248., 248., 248., 248., 248., 248., 248., 248., 248., 248.,\n",
    "       248., 248., 248., 248., 248., 248., 250., 250., 250., 250., 250.,\n",
    "       250., 250., 253., 253.])\n",
    "\n",
    "# Box-Cox变换\n",
    "data_box_cox, _ = stats.boxcox(data)\n",
    "\n",
    "# 检验正态性\n",
    "k2, p = stats.normaltest(data_box_cox)\n",
    "print(\"pValue:\", p)\n",
    "\n",
    "# 绘制Box-Cox变换后的分布图\n",
    "sns.histplot(data_box_cox, kde=True)\n",
    "plt.title(\"Box-Cox Transformation\")\n",
    "plt.show()\n",
    "\n",
    "# Yeo-Johnson变换\n",
    "data_yeo_johnson, _ = stats.yeojohnson(data)\n",
    "\n",
    "# 检验正态性\n",
    "k2, p = stats.normaltest(data_yeo_johnson)\n",
    "print(\"pValue:\", p)\n",
    "\n",
    "# 绘制Yeo-Johnson变换后的分布图\n",
    "sns.histplot(data_yeo_johnson, kde=True)\n",
    "plt.title(\"Yeo-Johnson Transformation\")\n",
    "plt.show()"
   ]
  },
  {
   "cell_type": "code",
   "execution_count": null,
   "id": "e513a33c",
   "metadata": {},
   "outputs": [],
   "source": []
  }
 ],
 "metadata": {
  "kernelspec": {
   "display_name": "Python 3 (ipykernel)",
   "language": "python",
   "name": "python3"
  },
  "language_info": {
   "codemirror_mode": {
    "name": "ipython",
    "version": 3
   },
   "file_extension": ".py",
   "mimetype": "text/x-python",
   "name": "python",
   "nbconvert_exporter": "python",
   "pygments_lexer": "ipython3",
   "version": "3.9.7"
  }
 },
 "nbformat": 4,
 "nbformat_minor": 5
}
